{
 "cells": [
  {
   "cell_type": "code",
   "execution_count": null,
   "id": "c367b808-1e49-4e62-88e1-c12870ffbd4e",
   "metadata": {},
   "outputs": [],
   "source": [
    "import tensorflow as tf\n",
    "from dvc_jupyter_bug import VAR"
   ]
  },
  {
   "cell_type": "code",
   "execution_count": null,
   "id": "0d807527-65d5-45a0-92ea-631d6a18b971",
   "metadata": {},
   "outputs": [],
   "source": []
  }
 ],
 "metadata": {
  "kernelspec": {
   "display_name": "Python 3 (ipykernel)",
   "language": "python",
   "name": "python3"
  },
  "language_info": {
   "codemirror_mode": {
    "name": "ipython",
    "version": 3
   },
   "file_extension": ".py",
   "mimetype": "text/x-python",
   "name": "python",
   "nbconvert_exporter": "python",
   "pygments_lexer": "ipython3",
   "version": "3.10.6"
  }
 },
 "nbformat": 4,
 "nbformat_minor": 5
}
